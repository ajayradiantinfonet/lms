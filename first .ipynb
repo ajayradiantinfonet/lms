{
 "cells": [
  {
   "cell_type": "code",
   "execution_count": 1,
   "id": "2a578d80",
   "metadata": {},
   "outputs": [
    {
     "name": "stdout",
     "output_type": "stream",
     "text": [
      "--2021-04-06 10:54:25--  http://dlib.net/files/shape_predictor_68_face_landmarks.dat.bz2\n",
      "Resolving dlib.net (dlib.net)... 107.180.26.78\n",
      "Connecting to dlib.net (dlib.net)|107.180.26.78|:80... connected.\n",
      "HTTP request sent, awaiting response... 200 OK\n",
      "Length: 64040097 (61M)\n",
      "Saving to: ‘shape_predictor_68_face_landmarks.dat.bz2’\n",
      "\n",
      "shape_predictor_68_ 100%[===================>]  61.07M   818KB/s    in 67s     \n",
      "\n",
      "2021-04-06 10:55:32 (940 KB/s) - ‘shape_predictor_68_face_landmarks.dat.bz2’ saved [64040097/64040097]\n",
      "\n"
     ]
    }
   ],
   "source": [
    "\n",
    "\n",
    "\n",
    "\n",
    "!wget http://dlib.net/files/shape_predictor_68_face_landmarks.dat.bz2\n",
    "!bunzip2 \"shape_predictor_68_face_landmarks.dat.bz2\"\n"
   ]
  },
  {
   "cell_type": "code",
   "execution_count": 2,
   "id": "a85cc1ed",
   "metadata": {},
   "outputs": [],
   "source": [
    "#from google.colab.patches import cv2_imshow\n",
    "import cv2\n",
    "import numpy as np\n",
    "import matplotlib.pyplot as plt\n",
    "import dlib\n",
    "\n",
    "\n",
    "detector = dlib.get_frontal_face_detector()\n",
    "predictor = dlib.shape_predictor(\"shape_predictor_68_face_landmarks.dat\")\n",
    "\n",
    "cap = cv2.VideoCapture(0)\n",
    "\n",
    "#cap=cv2.VideoCapture(\"Blinking.mp4\")\n",
    "#fourcc = cv2.VideoWriter_fourcc('M', 'P', '4', 'V')\n",
    "#out = cv2.VideoWriter('output.mp4', fourcc, 29, (1080,1920))\n",
    "font=cv2.FONT_HERSHEY_SIMPLEX\n",
    "\n",
    "\n",
    "def midpoint(p1 ,p2):\n",
    "    return int((p1.x + p2.x)/2), int((p1.y + p2.y)/2)\n",
    "\n",
    "\n",
    "\n",
    "def euclidean_distance(leftx,lefty, rightx, righty):\n",
    "    return np.sqrt((leftx-rightx)**2 +(lefty-righty)**2)\n",
    "\n",
    "\n",
    "def get_EAR(eye_points, facial_landmarks): \n",
    "    left_point = [facial_landmarks.part(eye_points[0]).x, facial_landmarks.part(eye_points[0]).y]  \n",
    "    right_point = [facial_landmarks.part(eye_points[3]).x, facial_landmarks.part(eye_points[3]).y]   \n",
    "    center_top = midpoint(facial_landmarks.part(eye_points[1]), facial_landmarks.part(eye_points[2]))  \n",
    "    center_bottom = midpoint(facial_landmarks.part(eye_points[5]), facial_landmarks.part(eye_points[4])) \n",
    "    hor_line = cv2.line(frame, (left_point[0], left_point[1]), (right_point[0], right_point[1]), (255, 0, 0), 3)\n",
    "    ver_line = cv2.line(frame, (center_top[0], center_top[1]),(center_bottom[0], center_bottom[1]), (255, 0, 0), 3)   \n",
    "    hor_line_lenght = euclidean_distance(left_point[0], left_point[1], right_point[0], right_point[1])\n",
    "    ver_line_lenght = euclidean_distance(center_top[0], center_top[1], center_bottom[0], center_bottom[1])    \n",
    "    EAR = ver_line_lenght / hor_line_lenght\n",
    "    return EAR"
   ]
  },
  {
   "cell_type": "code",
   "execution_count": 3,
   "id": "ac66a384",
   "metadata": {},
   "outputs": [],
   "source": [
    "eye_blink_signal=[]\n",
    "blink_counter = 0\n",
    "previous_ratio = 100\n",
    "while True:\n",
    "    ret, frame = cap.read() \n",
    "    if ret == False:\n",
    "        break\n",
    "    gray = cv2.cvtColor(frame, cv2.COLOR_BGR2GRAY)\n",
    "    faces = detector(gray)\n",
    "    \n",
    "    \n",
    "    if cv2.waitKey(1) & 0xFF == ord('q'):\n",
    "        cv2.destroyAllWindows()\n",
    "        break\n",
    "    \n",
    "    for face in faces:\n",
    "        x, y = face.left(), face.top()\n",
    "        x1, y1 = face.right(), face.bottom()\n",
    "        landmarks = predictor(gray, face)\n",
    "        left_eye_ratio = get_EAR([36, 37, 38, 39, 40, 41], landmarks) \n",
    "        right_eye_ratio = get_EAR([42, 43, 44, 45, 46, 47], landmarks) \n",
    "        blinking_ratio = (left_eye_ratio + right_eye_ratio) / 2  \n",
    "        blinking_ratio_1 = blinking_ratio * 100\n",
    "        blinking_ratio_2 = np.round(blinking_ratio_1)\n",
    "        blinking_ratio_rounded = blinking_ratio_2 / 100\n",
    "        eye_blink_signal.append(blinking_ratio)\n",
    "        if blinking_ratio < 0.20:\n",
    "            if previous_ratio > 0.20:\n",
    "                blink_counter = blink_counter + 1\n",
    "            previous_ratio = blinking_ratio\n",
    "  \n",
    "        cv2.putText(frame, str(blink_counter), (30, 50), font, 2, (0, 0, 255),5)\n",
    "        #cv2.putText(frame, str(blinking_ratio_rounded), (900, 50), font, 2, (0, 0, 255),5)\n",
    "        cv2.imshow('frame',frame)\n",
    "        #out.write(frame)\n",
    "    #out.release()\n",
    "cap.release()\n",
    "\n"
   ]
  },
  {
   "cell_type": "code",
   "execution_count": null,
   "id": "8dfd4146",
   "metadata": {},
   "outputs": [],
   "source": []
  }
 ],
 "metadata": {
  "kernelspec": {
   "display_name": "Python 3",
   "language": "python",
   "name": "python3"
  },
  "language_info": {
   "codemirror_mode": {
    "name": "ipython",
    "version": 3
   },
   "file_extension": ".py",
   "mimetype": "text/x-python",
   "name": "python",
   "nbconvert_exporter": "python",
   "pygments_lexer": "ipython3",
   "version": "3.8.5"
  }
 },
 "nbformat": 4,
 "nbformat_minor": 5
}
